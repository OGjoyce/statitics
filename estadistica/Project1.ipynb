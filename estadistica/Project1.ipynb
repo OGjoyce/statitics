{
  "nbformat": 4,
  "nbformat_minor": 0,
  "metadata": {
    "colab": {
      "name": "Project1.ipynb",
      "version": "0.3.2",
      "provenance": [],
      "collapsed_sections": []
    },
    "kernelspec": {
      "name": "python3",
      "display_name": "Python 3"
    },
    "accelerator": "TPU"
  },
  "cells": [
    {
      "metadata": {
        "id": "DwFodXpIXD1u",
        "colab_type": "text"
      },
      "cell_type": "markdown",
      "source": [
        "## Importar librerías\n",
        "\n",
        "1. Importe las librerías necesarias para utilizar matplotlib, numpy, pandas, sklearn y tensorflow. \n",
        "\n",
        "   *  *tensorflow as tf*\n",
        "   *  *seaborn as sns*\n",
        "   *  *pandas as pd*\n",
        "   *  *numpy as np*\n",
        "   *  *matplotlib pyplot as plt*\n",
        "   *  *sklearn metrics*\n",
        "\n",
        "\n",
        "\n",
        "\n",
        "\n",
        "\n",
        "\n",
        "\n",
        "\n"
      ]
    },
    {
      "metadata": {
        "id": "yZPmaml9tuEt",
        "colab_type": "code",
        "colab": {}
      },
      "cell_type": "code",
      "source": [
        "from __future__ import print_function\n",
        "\n",
        "import glob\n",
        "import math\n",
        "import os\n",
        "\n",
        "import tensorflow as tf\n",
        "import seaborn as sns\n",
        "import pandas as pd\n",
        "import numpy as np\n",
        "from matplotlib import pyplot as plt\n",
        "from sklearn import metrics\n",
        "\n",
        "\n",
        "from IPython import display\n",
        "from matplotlib import cm\n",
        "from matplotlib import gridspec\n",
        "\n",
        "#code\n",
        "\n",
        "\n",
        "from tensorflow.python.data import Dataset\n",
        "from sklearn.preprocessing import LabelEncoder\n",
        "from sklearn.preprocessing import MinMaxScaler\n",
        "\n",
        "tf.logging.set_verbosity(tf.logging.ERROR)\n",
        "pd.options.display.max_rows = 10\n",
        "pd.options.display.float_format = '{:.1f}'.format"
      ],
      "execution_count": 0,
      "outputs": []
    },
    {
      "metadata": {
        "id": "pNuz-2lyXZtZ",
        "colab_type": "text"
      },
      "cell_type": "markdown",
      "source": [
        "## Leer el archivo de datos, agregar nombres de columnas y aleatorizar\n",
        "\n",
        "1. Lea el archivo de datos del repositorio https://archive.ics.uci.edu/ml/machine-learning-databases/iris/iris.data, colóquelo en *iris_dataframe* como un pandas dataframe.\n",
        "\n",
        "2. El archivo de datos no incluye los nombres de las columnas. \n",
        "Debe agregar los nombres correspondientes a las columnas del pandas dataframe. * sepal_lenght, sepal_width, petal_length, petal_widh, class.*\n",
        "\n",
        "3. Recuerde aleatorizar el orden de las filas del dataframe.\n",
        "\n",
        "4. Muestre las primeras 5 filas del dataframe.\n",
        "\n",
        "https://pandas.pydata.org/pandas-docs/stable/reference/api/pandas.read_csv.html\n",
        "\n",
        "https://pandas.pydata.org/pandas-docs/stable/reference/api/pandas.DataFrame.columns.html\n",
        "\n"
      ]
    },
    {
      "metadata": {
        "id": "WiEeI4fz30he",
        "colab_type": "code",
        "outputId": "26802273-e29c-4690-bd32-40b84a4a9965",
        "colab": {
          "base_uri": "https://localhost:8080/",
          "height": 206
        }
      },
      "cell_type": "code",
      "source": [
        "iris_dataframe = pd.read_csv(\"https://archive.ics.uci.edu/ml/machine-learning-databases/iris/iris.data\", sep=\",\", header=None)\n",
        "\n",
        "iris_dataframe.columns = [\"sepal_length\", \"sepal_width\", \"petal_length\", \"petal_width\", \"class\"]\n",
        "\n",
        "iris_dataframe = iris_dataframe.reindex(\n",
        "    np.random.permutation(iris_dataframe.index))\n",
        "\n",
        "\n",
        "#code\n",
        "iris_dataframe.head()\n"
      ],
      "execution_count": 187,
      "outputs": [
        {
          "output_type": "execute_result",
          "data": {
            "text/html": [
              "<div>\n",
              "<style scoped>\n",
              "    .dataframe tbody tr th:only-of-type {\n",
              "        vertical-align: middle;\n",
              "    }\n",
              "\n",
              "    .dataframe tbody tr th {\n",
              "        vertical-align: top;\n",
              "    }\n",
              "\n",
              "    .dataframe thead th {\n",
              "        text-align: right;\n",
              "    }\n",
              "</style>\n",
              "<table border=\"1\" class=\"dataframe\">\n",
              "  <thead>\n",
              "    <tr style=\"text-align: right;\">\n",
              "      <th></th>\n",
              "      <th>sepal_length</th>\n",
              "      <th>sepal_width</th>\n",
              "      <th>petal_length</th>\n",
              "      <th>petal_width</th>\n",
              "      <th>class</th>\n",
              "    </tr>\n",
              "  </thead>\n",
              "  <tbody>\n",
              "    <tr>\n",
              "      <th>79</th>\n",
              "      <td>5.7</td>\n",
              "      <td>2.6</td>\n",
              "      <td>3.5</td>\n",
              "      <td>1.0</td>\n",
              "      <td>Iris-versicolor</td>\n",
              "    </tr>\n",
              "    <tr>\n",
              "      <th>5</th>\n",
              "      <td>5.4</td>\n",
              "      <td>3.9</td>\n",
              "      <td>1.7</td>\n",
              "      <td>0.4</td>\n",
              "      <td>Iris-setosa</td>\n",
              "    </tr>\n",
              "    <tr>\n",
              "      <th>112</th>\n",
              "      <td>6.8</td>\n",
              "      <td>3.0</td>\n",
              "      <td>5.5</td>\n",
              "      <td>2.1</td>\n",
              "      <td>Iris-virginica</td>\n",
              "    </tr>\n",
              "    <tr>\n",
              "      <th>108</th>\n",
              "      <td>6.7</td>\n",
              "      <td>2.5</td>\n",
              "      <td>5.8</td>\n",
              "      <td>1.8</td>\n",
              "      <td>Iris-virginica</td>\n",
              "    </tr>\n",
              "    <tr>\n",
              "      <th>148</th>\n",
              "      <td>6.2</td>\n",
              "      <td>3.4</td>\n",
              "      <td>5.4</td>\n",
              "      <td>2.3</td>\n",
              "      <td>Iris-virginica</td>\n",
              "    </tr>\n",
              "  </tbody>\n",
              "</table>\n",
              "</div>"
            ],
            "text/plain": [
              "     sepal_length  sepal_width  petal_length  petal_width            class\n",
              "79            5.7          2.6           3.5          1.0  Iris-versicolor\n",
              "5             5.4          3.9           1.7          0.4      Iris-setosa\n",
              "112           6.8          3.0           5.5          2.1   Iris-virginica\n",
              "108           6.7          2.5           5.8          1.8   Iris-virginica\n",
              "148           6.2          3.4           5.4          2.3   Iris-virginica"
            ]
          },
          "metadata": {
            "tags": []
          },
          "execution_count": 187
        }
      ]
    },
    {
      "metadata": {
        "id": "803f6tEak8HQ",
        "colab_type": "text"
      },
      "cell_type": "markdown",
      "source": [
        "## Número de filas en el dataframe\n",
        "1. Muestre un sumario del dataframe y observe que el dataframe contiene 150 ejemplos.\n"
      ]
    },
    {
      "metadata": {
        "id": "m40PW6iwnTiX",
        "colab_type": "code",
        "outputId": "b67d4d3d-c94b-46f7-ba9d-8e0d04e15b59",
        "colab": {
          "base_uri": "https://localhost:8080/",
          "height": 300
        }
      },
      "cell_type": "code",
      "source": [
        "l = iris_dataframe.describe()\n",
        "l\n"
      ],
      "execution_count": 188,
      "outputs": [
        {
          "output_type": "execute_result",
          "data": {
            "text/html": [
              "<div>\n",
              "<style scoped>\n",
              "    .dataframe tbody tr th:only-of-type {\n",
              "        vertical-align: middle;\n",
              "    }\n",
              "\n",
              "    .dataframe tbody tr th {\n",
              "        vertical-align: top;\n",
              "    }\n",
              "\n",
              "    .dataframe thead th {\n",
              "        text-align: right;\n",
              "    }\n",
              "</style>\n",
              "<table border=\"1\" class=\"dataframe\">\n",
              "  <thead>\n",
              "    <tr style=\"text-align: right;\">\n",
              "      <th></th>\n",
              "      <th>sepal_length</th>\n",
              "      <th>sepal_width</th>\n",
              "      <th>petal_length</th>\n",
              "      <th>petal_width</th>\n",
              "    </tr>\n",
              "  </thead>\n",
              "  <tbody>\n",
              "    <tr>\n",
              "      <th>count</th>\n",
              "      <td>150.0</td>\n",
              "      <td>150.0</td>\n",
              "      <td>150.0</td>\n",
              "      <td>150.0</td>\n",
              "    </tr>\n",
              "    <tr>\n",
              "      <th>mean</th>\n",
              "      <td>5.8</td>\n",
              "      <td>3.1</td>\n",
              "      <td>3.8</td>\n",
              "      <td>1.2</td>\n",
              "    </tr>\n",
              "    <tr>\n",
              "      <th>std</th>\n",
              "      <td>0.8</td>\n",
              "      <td>0.4</td>\n",
              "      <td>1.8</td>\n",
              "      <td>0.8</td>\n",
              "    </tr>\n",
              "    <tr>\n",
              "      <th>min</th>\n",
              "      <td>4.3</td>\n",
              "      <td>2.0</td>\n",
              "      <td>1.0</td>\n",
              "      <td>0.1</td>\n",
              "    </tr>\n",
              "    <tr>\n",
              "      <th>25%</th>\n",
              "      <td>5.1</td>\n",
              "      <td>2.8</td>\n",
              "      <td>1.6</td>\n",
              "      <td>0.3</td>\n",
              "    </tr>\n",
              "    <tr>\n",
              "      <th>50%</th>\n",
              "      <td>5.8</td>\n",
              "      <td>3.0</td>\n",
              "      <td>4.3</td>\n",
              "      <td>1.3</td>\n",
              "    </tr>\n",
              "    <tr>\n",
              "      <th>75%</th>\n",
              "      <td>6.4</td>\n",
              "      <td>3.3</td>\n",
              "      <td>5.1</td>\n",
              "      <td>1.8</td>\n",
              "    </tr>\n",
              "    <tr>\n",
              "      <th>max</th>\n",
              "      <td>7.9</td>\n",
              "      <td>4.4</td>\n",
              "      <td>6.9</td>\n",
              "      <td>2.5</td>\n",
              "    </tr>\n",
              "  </tbody>\n",
              "</table>\n",
              "</div>"
            ],
            "text/plain": [
              "       sepal_length  sepal_width  petal_length  petal_width\n",
              "count         150.0        150.0         150.0        150.0\n",
              "mean            5.8          3.1           3.8          1.2\n",
              "std             0.8          0.4           1.8          0.8\n",
              "min             4.3          2.0           1.0          0.1\n",
              "25%             5.1          2.8           1.6          0.3\n",
              "50%             5.8          3.0           4.3          1.3\n",
              "75%             6.4          3.3           5.1          1.8\n",
              "max             7.9          4.4           6.9          2.5"
            ]
          },
          "metadata": {
            "tags": []
          },
          "execution_count": 188
        }
      ]
    },
    {
      "metadata": {
        "id": "87T4bNmFJPrK",
        "colab_type": "text"
      },
      "cell_type": "markdown",
      "source": [
        "## Label categórico\n",
        "\n",
        "Observe que la columna *class* tiene atributos categóricos, para hacer la predicción de las etiquetas debe codificarlas con valores numéricos.\n",
        "\n",
        "Para este ejercicio utilizaremos una codificación numérica simple, asignando un entero entre 0 y el número de clases -1.\n",
        "\n",
        "Para esta tarea use la clase LabelEncoder de Sklearn\n",
        "\n",
        "https://scikit-learn.org/stable/modules/generated/sklearn.preprocessing.LabelEncoder.html\n",
        "\n",
        "1. Agregue una columna adicional al dataframe *iris_dataframe* llamada *class_encoded* que contenga un numero entero que mapee cada clase de la columna *class*\n",
        "\n",
        "2. Muestre los primeros 5 ejemplos del dataframe\n",
        "\n"
      ]
    },
    {
      "metadata": {
        "id": "1BpRIztfX7RT",
        "colab_type": "code",
        "colab": {}
      },
      "cell_type": "code",
      "source": [
        "\n",
        "\n",
        "\n",
        "#sns.FacetGrid(iris_dataframe, \n",
        "#    hue=\"class\").map(plt.scatter, \"petal_length\", \"petal_width\").add_legend()\n",
        "\n",
        "#le = LabelEncoder()\n",
        "#le.fit(labels)\n",
        "\n",
        "# apply encoding to labels\n",
        "#labels = le.transform(labels)\n",
        "#iris_dataframe['class_encoded'] = labels\n",
        "#iris_dataframe.head()\n",
        "#code\n",
        "label_encoder = LabelEncoder()\n",
        "label_encoder.fit([\"Iris-setosa\", \"Iris-versicolor\", \"Iris-virginica\"])\n",
        "\n",
        "iris_dataframe[\"class_encoded\"] = label_encoder.transform(iris_dataframe[\"class\"])\n",
        "#code\n",
        "\n"
      ],
      "execution_count": 0,
      "outputs": []
    },
    {
      "metadata": {
        "id": "TbB8wIeYL-Wf",
        "colab_type": "text"
      },
      "cell_type": "markdown",
      "source": [
        "## Normalización, Min-Max scaling\n",
        "\n",
        "Cree una función que reciba una característica y devuelva la misma columna con todos los valores normalizados\n",
        "\n",
        "\n",
        "1. Escriba el código que normaliza una feature con Min-Max scaling. https://sebastianraschka.com/Articles/2014_about_feature_scaling.html\n",
        "\n",
        "2. Envíe las primeras 4 columnas (features) a la función feature_normalization(feature) para que sean normalizadas.\n",
        "\n",
        "\n",
        "\n"
      ]
    },
    {
      "metadata": {
        "id": "62mmIoaVansS",
        "colab_type": "code",
        "colab": {}
      },
      "cell_type": "code",
      "source": [
        "\n",
        "def feature_normalization(feature):\n",
        "\n",
        "# feature normalization\n",
        "#DEFINE INDEX FIRST\n",
        "\n",
        "  s =iris_dataframe.describe()\n",
        "  #SEPAL LENGTH MIN AND MAX\n",
        "  sepal_length_the_min =l['sepal_length']['min']\n",
        "  sepal_length_the_max = l['sepal_length']['max']\n",
        "    #SEPAL WIDTH MIN AND MAX\n",
        "  sepal_width_the_min =l['sepal_width']['min']\n",
        "  sepal_width_the_max = l['sepal_width']['max']\n",
        "  #PETAL LENGTH MIN AND MAX\n",
        "  petal_length_the_min =l['petal_length']['min']\n",
        "  petal_length_the_max = l['petal_length']['max']\n",
        "  #PETAL  WIDTH MIN AND MAX\n",
        "  petal_width_the_min =l['petal_width']['min']\n",
        "  petal_width_the_max = l['petal_width']['max']\n",
        "  #GENERAR UNA COPIA DE FEATURE\n",
        "  feature2 = feature.copy()\n",
        "  #normalizar sepal_length\n",
        "  feature2.loc[feature.index[0],'sepal_length'] = (feature2.loc[feature.index[0],'sepal_length'] - sepal_length_the_min)/(sepal_length_the_max - sepal_length_the_min)\n",
        "  #normalizar sepal_width\n",
        "  feature2.loc[feature.index[0],'sepal_width'] = (feature2.loc[feature.index[0],'sepal_width'] - sepal_width_the_min)/(sepal_width_the_max - sepal_width_the_min)\n",
        "  #normalizar petal_length\n",
        "  feature2.loc[feature.index[0],'petal_length']=(feature2.loc[feature.index[0],'petal_length']- petal_length_the_min)/(petal_length_the_max - petal_length_the_min)\n",
        "  #normalizar petal_width\n",
        "  feature2.loc[feature.index[0],'petal_width']=(feature2.loc[feature.index[0],'petal_width']- petal_width_the_min)/(petal_width_the_max - petal_width_the_min)\n",
        "  return feature2\n",
        "  \n",
        "\n",
        "for x in range(0, iris_dataframe.shape[0]):\n",
        "  iris_dataframe[x:x+1]=feature_normalization(iris_dataframe[x:x+1])\n",
        "  \n",
        "\n",
        "\n"
      ],
      "execution_count": 0,
      "outputs": []
    },
    {
      "metadata": {
        "id": "A1Cn7W0ONrgA",
        "colab_type": "text"
      },
      "cell_type": "markdown",
      "source": [
        "3. muestre un sumario del dataframe y observe que los valores máximos de cada feature deben ser 1.0 y los valores mínimos 0.0 esto nos indica que las features fueron normalizadas correctamente."
      ]
    },
    {
      "metadata": {
        "id": "ViF-vEMKrItz",
        "colab_type": "code",
        "outputId": "1bd984c5-1f6d-4de4-d60d-7cb9be6bec2f",
        "colab": {
          "base_uri": "https://localhost:8080/",
          "height": 300
        }
      },
      "cell_type": "code",
      "source": [
        "#code\n",
        "iris_dataframe.describe()\n"
      ],
      "execution_count": 192,
      "outputs": [
        {
          "output_type": "execute_result",
          "data": {
            "text/html": [
              "<div>\n",
              "<style scoped>\n",
              "    .dataframe tbody tr th:only-of-type {\n",
              "        vertical-align: middle;\n",
              "    }\n",
              "\n",
              "    .dataframe tbody tr th {\n",
              "        vertical-align: top;\n",
              "    }\n",
              "\n",
              "    .dataframe thead th {\n",
              "        text-align: right;\n",
              "    }\n",
              "</style>\n",
              "<table border=\"1\" class=\"dataframe\">\n",
              "  <thead>\n",
              "    <tr style=\"text-align: right;\">\n",
              "      <th></th>\n",
              "      <th>sepal_length</th>\n",
              "      <th>sepal_width</th>\n",
              "      <th>petal_length</th>\n",
              "      <th>petal_width</th>\n",
              "      <th>class_encoded</th>\n",
              "    </tr>\n",
              "  </thead>\n",
              "  <tbody>\n",
              "    <tr>\n",
              "      <th>count</th>\n",
              "      <td>150.0</td>\n",
              "      <td>150.0</td>\n",
              "      <td>150.0</td>\n",
              "      <td>150.0</td>\n",
              "      <td>150.0</td>\n",
              "    </tr>\n",
              "    <tr>\n",
              "      <th>mean</th>\n",
              "      <td>0.4</td>\n",
              "      <td>0.4</td>\n",
              "      <td>0.5</td>\n",
              "      <td>0.5</td>\n",
              "      <td>1.0</td>\n",
              "    </tr>\n",
              "    <tr>\n",
              "      <th>std</th>\n",
              "      <td>0.2</td>\n",
              "      <td>0.2</td>\n",
              "      <td>0.3</td>\n",
              "      <td>0.3</td>\n",
              "      <td>0.8</td>\n",
              "    </tr>\n",
              "    <tr>\n",
              "      <th>min</th>\n",
              "      <td>0.0</td>\n",
              "      <td>0.0</td>\n",
              "      <td>0.0</td>\n",
              "      <td>0.0</td>\n",
              "      <td>0.0</td>\n",
              "    </tr>\n",
              "    <tr>\n",
              "      <th>25%</th>\n",
              "      <td>0.2</td>\n",
              "      <td>0.3</td>\n",
              "      <td>0.1</td>\n",
              "      <td>0.1</td>\n",
              "      <td>0.0</td>\n",
              "    </tr>\n",
              "    <tr>\n",
              "      <th>50%</th>\n",
              "      <td>0.4</td>\n",
              "      <td>0.4</td>\n",
              "      <td>0.6</td>\n",
              "      <td>0.5</td>\n",
              "      <td>1.0</td>\n",
              "    </tr>\n",
              "    <tr>\n",
              "      <th>75%</th>\n",
              "      <td>0.6</td>\n",
              "      <td>0.5</td>\n",
              "      <td>0.7</td>\n",
              "      <td>0.7</td>\n",
              "      <td>2.0</td>\n",
              "    </tr>\n",
              "    <tr>\n",
              "      <th>max</th>\n",
              "      <td>1.0</td>\n",
              "      <td>1.0</td>\n",
              "      <td>1.0</td>\n",
              "      <td>1.0</td>\n",
              "      <td>2.0</td>\n",
              "    </tr>\n",
              "  </tbody>\n",
              "</table>\n",
              "</div>"
            ],
            "text/plain": [
              "       sepal_length  sepal_width  petal_length  petal_width  class_encoded\n",
              "count         150.0        150.0         150.0        150.0          150.0\n",
              "mean            0.4          0.4           0.5          0.5            1.0\n",
              "std             0.2          0.2           0.3          0.3            0.8\n",
              "min             0.0          0.0           0.0          0.0            0.0\n",
              "25%             0.2          0.3           0.1          0.1            0.0\n",
              "50%             0.4          0.4           0.6          0.5            1.0\n",
              "75%             0.6          0.5           0.7          0.7            2.0\n",
              "max             1.0          1.0           1.0          1.0            2.0"
            ]
          },
          "metadata": {
            "tags": []
          },
          "execution_count": 192
        }
      ]
    },
    {
      "metadata": {
        "id": "x6WJ098oOQIf",
        "colab_type": "text"
      },
      "cell_type": "markdown",
      "source": [
        "## Labes and Features\n",
        "\n",
        "Esta función devuelve dos objetos, una serie de pandas con las etiquetas, y un dataframe con las 4 características.\n",
        "\n",
        "1. complete el código para que *labels* contenga las etiquetas codificadas.\n",
        "2. complete el código para que features contenga las un dataframe con las 4 etiquetas. https://pandas.pydata.org/pandas-docs/stable/reference/api/pandas.DataFrame.loc.html\n"
      ]
    },
    {
      "metadata": {
        "id": "3sARbf0p31SG",
        "colab_type": "code",
        "colab": {}
      },
      "cell_type": "code",
      "source": [
        "def parse_labels_and_features(dataset):\n",
        "  \"\"\"Extracts labels and features. \n",
        "  Args:\n",
        "    dataset: A Pandas `Dataframe`, containing the label on the fourth column, the encoded label on fifth column and\n",
        "    sepal length,sepal width,petal length and petal width\n",
        "      cm values on the 0 to 3 columns\n",
        "  Returns:\n",
        "    A `tuple` `(labels, features)`:\n",
        "      labels: A Pandas `Series`.\n",
        "      features: A Pandas `DataFrame`.\n",
        "  \"\"\"\n",
        "  #data2 = dataset.copy()\n",
        "  #labels =  data2.loc[:,'class_encoded']\n",
        "  \n",
        "  #features = data2.loc[:,['sepal_length', 'sepal_width', 'petal_length', 'petal_width']]\n",
        "  \n",
        "  #return labels, features\n",
        "  labels = dataset[['class_encoded']]\n",
        "  labels = labels.copy()\n",
        "               \n",
        "  features = pd.DataFrame(data={'sepal_length': dataset[\"sepal_length\"], 'sepal_width': dataset[\"sepal_width\"], 'petal_length': dataset[\"petal_length\"], 'petal_width': dataset[\"petal_width\"]})    \n",
        "  features = features.copy()\n",
        "  return labels, features"
      ],
      "execution_count": 0,
      "outputs": []
    },
    {
      "metadata": {
        "id": "sJftx1SiPI68",
        "colab_type": "text"
      },
      "cell_type": "markdown",
      "source": [
        "## Training, validation and test set\n",
        "\n",
        "debe crear la separación para cada uno de los sets, tomando un porcentaje de ejemplos adecuado para cada uno. \n",
        "\n",
        "1. Utilice la función parse_labels_and_features(dataset), para crear el conjunto de entrenamiento, con sus respectivas etiquetas y ejemplos.\n",
        "\n",
        "2. Muestre un sumario para observar la cantidad de ejemplos de entrenamiento.\n"
      ]
    },
    {
      "metadata": {
        "id": "sggtq1uiBfgs",
        "colab_type": "code",
        "outputId": "941862c7-ccdd-4d5b-e619-788e5e061d03",
        "colab": {
          "base_uri": "https://localhost:8080/",
          "height": 300
        }
      },
      "cell_type": "code",
      "source": [
        "training_targets, training_examples = parse_labels_and_features(iris_dataframe.head(90))\n",
        "#code\n",
        "training_examples.describe()\n"
      ],
      "execution_count": 194,
      "outputs": [
        {
          "output_type": "execute_result",
          "data": {
            "text/html": [
              "<div>\n",
              "<style scoped>\n",
              "    .dataframe tbody tr th:only-of-type {\n",
              "        vertical-align: middle;\n",
              "    }\n",
              "\n",
              "    .dataframe tbody tr th {\n",
              "        vertical-align: top;\n",
              "    }\n",
              "\n",
              "    .dataframe thead th {\n",
              "        text-align: right;\n",
              "    }\n",
              "</style>\n",
              "<table border=\"1\" class=\"dataframe\">\n",
              "  <thead>\n",
              "    <tr style=\"text-align: right;\">\n",
              "      <th></th>\n",
              "      <th>sepal_length</th>\n",
              "      <th>sepal_width</th>\n",
              "      <th>petal_length</th>\n",
              "      <th>petal_width</th>\n",
              "    </tr>\n",
              "  </thead>\n",
              "  <tbody>\n",
              "    <tr>\n",
              "      <th>count</th>\n",
              "      <td>90.0</td>\n",
              "      <td>90.0</td>\n",
              "      <td>90.0</td>\n",
              "      <td>90.0</td>\n",
              "    </tr>\n",
              "    <tr>\n",
              "      <th>mean</th>\n",
              "      <td>0.5</td>\n",
              "      <td>0.4</td>\n",
              "      <td>0.5</td>\n",
              "      <td>0.5</td>\n",
              "    </tr>\n",
              "    <tr>\n",
              "      <th>std</th>\n",
              "      <td>0.2</td>\n",
              "      <td>0.2</td>\n",
              "      <td>0.3</td>\n",
              "      <td>0.3</td>\n",
              "    </tr>\n",
              "    <tr>\n",
              "      <th>min</th>\n",
              "      <td>0.0</td>\n",
              "      <td>0.0</td>\n",
              "      <td>0.0</td>\n",
              "      <td>0.0</td>\n",
              "    </tr>\n",
              "    <tr>\n",
              "      <th>25%</th>\n",
              "      <td>0.2</td>\n",
              "      <td>0.3</td>\n",
              "      <td>0.1</td>\n",
              "      <td>0.1</td>\n",
              "    </tr>\n",
              "    <tr>\n",
              "      <th>50%</th>\n",
              "      <td>0.4</td>\n",
              "      <td>0.4</td>\n",
              "      <td>0.6</td>\n",
              "      <td>0.5</td>\n",
              "    </tr>\n",
              "    <tr>\n",
              "      <th>75%</th>\n",
              "      <td>0.6</td>\n",
              "      <td>0.6</td>\n",
              "      <td>0.7</td>\n",
              "      <td>0.7</td>\n",
              "    </tr>\n",
              "    <tr>\n",
              "      <th>max</th>\n",
              "      <td>1.0</td>\n",
              "      <td>1.0</td>\n",
              "      <td>1.0</td>\n",
              "      <td>1.0</td>\n",
              "    </tr>\n",
              "  </tbody>\n",
              "</table>\n",
              "</div>"
            ],
            "text/plain": [
              "       sepal_length  sepal_width  petal_length  petal_width\n",
              "count          90.0         90.0          90.0         90.0\n",
              "mean            0.5          0.4           0.5          0.5\n",
              "std             0.2          0.2           0.3          0.3\n",
              "min             0.0          0.0           0.0          0.0\n",
              "25%             0.2          0.3           0.1          0.1\n",
              "50%             0.4          0.4           0.6          0.5\n",
              "75%             0.6          0.6           0.7          0.7\n",
              "max             1.0          1.0           1.0          1.0"
            ]
          },
          "metadata": {
            "tags": []
          },
          "execution_count": 194
        }
      ]
    },
    {
      "metadata": {
        "id": "tj1-3d8kP69F",
        "colab_type": "text"
      },
      "cell_type": "markdown",
      "source": [
        "3. Utilice la función parse_labels_and_features(dataset), para crear el conjunto de validación, con sus respectivas etiquetas y ejemplos.\n",
        "\n",
        "4. Muestre un sumario para observar la cantidad de ejemplos de validación.\n"
      ]
    },
    {
      "metadata": {
        "id": "eUsekQ7uCepu",
        "colab_type": "code",
        "outputId": "01206efa-5c39-4bcc-ab1f-d96a1be134cb",
        "colab": {
          "base_uri": "https://localhost:8080/",
          "height": 300
        }
      },
      "cell_type": "code",
      "source": [
        "validation_targets, validation_examples = parse_labels_and_features(iris_dataframe.iloc[90:120])\n",
        "\n",
        "#code\n",
        "validation_examples.describe()\n"
      ],
      "execution_count": 195,
      "outputs": [
        {
          "output_type": "execute_result",
          "data": {
            "text/html": [
              "<div>\n",
              "<style scoped>\n",
              "    .dataframe tbody tr th:only-of-type {\n",
              "        vertical-align: middle;\n",
              "    }\n",
              "\n",
              "    .dataframe tbody tr th {\n",
              "        vertical-align: top;\n",
              "    }\n",
              "\n",
              "    .dataframe thead th {\n",
              "        text-align: right;\n",
              "    }\n",
              "</style>\n",
              "<table border=\"1\" class=\"dataframe\">\n",
              "  <thead>\n",
              "    <tr style=\"text-align: right;\">\n",
              "      <th></th>\n",
              "      <th>sepal_length</th>\n",
              "      <th>sepal_width</th>\n",
              "      <th>petal_length</th>\n",
              "      <th>petal_width</th>\n",
              "    </tr>\n",
              "  </thead>\n",
              "  <tbody>\n",
              "    <tr>\n",
              "      <th>count</th>\n",
              "      <td>30.0</td>\n",
              "      <td>30.0</td>\n",
              "      <td>30.0</td>\n",
              "      <td>30.0</td>\n",
              "    </tr>\n",
              "    <tr>\n",
              "      <th>mean</th>\n",
              "      <td>0.3</td>\n",
              "      <td>0.4</td>\n",
              "      <td>0.4</td>\n",
              "      <td>0.3</td>\n",
              "    </tr>\n",
              "    <tr>\n",
              "      <th>std</th>\n",
              "      <td>0.2</td>\n",
              "      <td>0.2</td>\n",
              "      <td>0.3</td>\n",
              "      <td>0.3</td>\n",
              "    </tr>\n",
              "    <tr>\n",
              "      <th>min</th>\n",
              "      <td>0.0</td>\n",
              "      <td>0.1</td>\n",
              "      <td>0.1</td>\n",
              "      <td>0.0</td>\n",
              "    </tr>\n",
              "    <tr>\n",
              "      <th>25%</th>\n",
              "      <td>0.2</td>\n",
              "      <td>0.3</td>\n",
              "      <td>0.1</td>\n",
              "      <td>0.0</td>\n",
              "    </tr>\n",
              "    <tr>\n",
              "      <th>50%</th>\n",
              "      <td>0.3</td>\n",
              "      <td>0.4</td>\n",
              "      <td>0.4</td>\n",
              "      <td>0.4</td>\n",
              "    </tr>\n",
              "    <tr>\n",
              "      <th>75%</th>\n",
              "      <td>0.4</td>\n",
              "      <td>0.5</td>\n",
              "      <td>0.6</td>\n",
              "      <td>0.6</td>\n",
              "    </tr>\n",
              "    <tr>\n",
              "      <th>max</th>\n",
              "      <td>0.7</td>\n",
              "      <td>0.9</td>\n",
              "      <td>0.8</td>\n",
              "      <td>1.0</td>\n",
              "    </tr>\n",
              "  </tbody>\n",
              "</table>\n",
              "</div>"
            ],
            "text/plain": [
              "       sepal_length  sepal_width  petal_length  petal_width\n",
              "count          30.0         30.0          30.0         30.0\n",
              "mean            0.3          0.4           0.4          0.3\n",
              "std             0.2          0.2           0.3          0.3\n",
              "min             0.0          0.1           0.1          0.0\n",
              "25%             0.2          0.3           0.1          0.0\n",
              "50%             0.3          0.4           0.4          0.4\n",
              "75%             0.4          0.5           0.6          0.6\n",
              "max             0.7          0.9           0.8          1.0"
            ]
          },
          "metadata": {
            "tags": []
          },
          "execution_count": 195
        }
      ]
    },
    {
      "metadata": {
        "id": "knuLciOHQCVI",
        "colab_type": "text"
      },
      "cell_type": "markdown",
      "source": [
        "5. Utilice la función parse_labels_and_features(dataset), para crear el conjunto de prueba, con sus respectivas etiquetas y ejemplos.\n",
        "\n",
        "6. Muestre un sumario para observar la cantidad de ejemplos de prueba.\n"
      ]
    },
    {
      "metadata": {
        "id": "2SdJ7OOyCjgw",
        "colab_type": "code",
        "outputId": "bcd710e9-ecac-4238-f81f-2405012e66c8",
        "colab": {
          "base_uri": "https://localhost:8080/",
          "height": 300
        }
      },
      "cell_type": "code",
      "source": [
        "test_targets, test_examples = parse_labels_and_features(iris_dataframe.iloc[120:150])\n",
        "test_examples.describe()"
      ],
      "execution_count": 196,
      "outputs": [
        {
          "output_type": "execute_result",
          "data": {
            "text/html": [
              "<div>\n",
              "<style scoped>\n",
              "    .dataframe tbody tr th:only-of-type {\n",
              "        vertical-align: middle;\n",
              "    }\n",
              "\n",
              "    .dataframe tbody tr th {\n",
              "        vertical-align: top;\n",
              "    }\n",
              "\n",
              "    .dataframe thead th {\n",
              "        text-align: right;\n",
              "    }\n",
              "</style>\n",
              "<table border=\"1\" class=\"dataframe\">\n",
              "  <thead>\n",
              "    <tr style=\"text-align: right;\">\n",
              "      <th></th>\n",
              "      <th>sepal_length</th>\n",
              "      <th>sepal_width</th>\n",
              "      <th>petal_length</th>\n",
              "      <th>petal_width</th>\n",
              "    </tr>\n",
              "  </thead>\n",
              "  <tbody>\n",
              "    <tr>\n",
              "      <th>count</th>\n",
              "      <td>30.0</td>\n",
              "      <td>30.0</td>\n",
              "      <td>30.0</td>\n",
              "      <td>30.0</td>\n",
              "    </tr>\n",
              "    <tr>\n",
              "      <th>mean</th>\n",
              "      <td>0.5</td>\n",
              "      <td>0.4</td>\n",
              "      <td>0.5</td>\n",
              "      <td>0.5</td>\n",
              "    </tr>\n",
              "    <tr>\n",
              "      <th>std</th>\n",
              "      <td>0.2</td>\n",
              "      <td>0.1</td>\n",
              "      <td>0.3</td>\n",
              "      <td>0.3</td>\n",
              "    </tr>\n",
              "    <tr>\n",
              "      <th>min</th>\n",
              "      <td>0.0</td>\n",
              "      <td>0.2</td>\n",
              "      <td>0.0</td>\n",
              "      <td>0.0</td>\n",
              "    </tr>\n",
              "    <tr>\n",
              "      <th>25%</th>\n",
              "      <td>0.3</td>\n",
              "      <td>0.3</td>\n",
              "      <td>0.2</td>\n",
              "      <td>0.2</td>\n",
              "    </tr>\n",
              "    <tr>\n",
              "      <th>50%</th>\n",
              "      <td>0.5</td>\n",
              "      <td>0.4</td>\n",
              "      <td>0.6</td>\n",
              "      <td>0.6</td>\n",
              "    </tr>\n",
              "    <tr>\n",
              "      <th>75%</th>\n",
              "      <td>0.6</td>\n",
              "      <td>0.5</td>\n",
              "      <td>0.7</td>\n",
              "      <td>0.8</td>\n",
              "    </tr>\n",
              "    <tr>\n",
              "      <th>max</th>\n",
              "      <td>0.9</td>\n",
              "      <td>0.7</td>\n",
              "      <td>1.0</td>\n",
              "      <td>1.0</td>\n",
              "    </tr>\n",
              "  </tbody>\n",
              "</table>\n",
              "</div>"
            ],
            "text/plain": [
              "       sepal_length  sepal_width  petal_length  petal_width\n",
              "count          30.0         30.0          30.0         30.0\n",
              "mean            0.5          0.4           0.5          0.5\n",
              "std             0.2          0.1           0.3          0.3\n",
              "min             0.0          0.2           0.0          0.0\n",
              "25%             0.3          0.3           0.2          0.2\n",
              "50%             0.5          0.4           0.6          0.6\n",
              "75%             0.6          0.5           0.7          0.8\n",
              "max             0.9          0.7           1.0          1.0"
            ]
          },
          "metadata": {
            "tags": []
          },
          "execution_count": 196
        }
      ]
    },
    {
      "metadata": {
        "id": "hGxLwATLQZLj",
        "colab_type": "text"
      },
      "cell_type": "markdown",
      "source": [
        "## Feature columns\n",
        "\n",
        "Tensorflow necesita que indiquemos el tipo de feature que utilizaremos, en este ejercicio nuestras features serán de tipo numérico.\n",
        "\n",
        "1. Complete el código para que la función devuelva un set con todas las features de entrada como tipo numérico. https://www.tensorflow.org/api_docs/python/tf/feature_column/numeric_column\n"
      ]
    },
    {
      "metadata": {
        "id": "8VXsZmvAY3TA",
        "colab_type": "code",
        "colab": {}
      },
      "cell_type": "code",
      "source": [
        "def construct_feature_columns(input_features):\n",
        "  \"\"\"Construct the TensorFlow Feature Columns.\n",
        "\n",
        "  Args:\n",
        "    input_features: The names of the numerical input features to use.\n",
        "  Returns:\n",
        "    A set of feature columns\n",
        "  \"\"\" \n",
        "  return set([tf.feature_column.numeric_column(my_feature) for my_feature in input_features])\n",
        "\n"
      ],
      "execution_count": 0,
      "outputs": []
    },
    {
      "metadata": {
        "id": "OINzym3WQ4Rq",
        "colab_type": "text"
      },
      "cell_type": "markdown",
      "source": [
        "## Input function\n",
        "\n",
        "\n",
        "1. Complete el código para crear los batch del tamaño batch_size\n",
        "Complete el código para que los datos sean repetidos al pasar un determinado número de epochs num_epochs\n",
        "2. Complete el código para que pueda existir aleatorización al crear los batch si la variable shuffle es true\n",
        "3. Complete el código para devolver el siguiente batch\n",
        "\n",
        "https://www.tensorflow.org/api_docs/python/tf/data/Dataset\n"
      ]
    },
    {
      "metadata": {
        "id": "c3cDDZH6zVgd",
        "colab_type": "code",
        "colab": {}
      },
      "cell_type": "code",
      "source": [
        "def my_input_fn(features, targets, batch_size=1, shuffle=True, num_epochs=None):\n",
        "    \"\"\"Trains a neural network model.\n",
        "  \n",
        "    Args:\n",
        "      features: pandas DataFrame of features\n",
        "      targets: pandas DataFrame of targets\n",
        "      batch_size: Size of batches to be passed to the model\n",
        "      shuffle: True or False. Whether to shuffle the data.\n",
        "      num_epochs: Number of epochs for which data should be repeated. None = repeat indefinitely\n",
        "    Returns:\n",
        "      Tuple of (features, labels) for next data batch\n",
        "    \"\"\"\n",
        "    \n",
        "    # Convert pandas data into a dict of np arrays.\n",
        "    features = {key:np.array(value) for key,value in dict(features).items()}                                           \n",
        " \n",
        "    # Construct a dataset, and configure batching/repeating.\n",
        "    ds = Dataset.from_tensor_slices((features,targets)) # warning: 2GB limit\n",
        "    \n",
        "    #Batch size, repeat epochs\n",
        "    ds = ds.batch(batch_size).repeat(num_epochs)\n",
        "    \n",
        "    # Shuffle the data, if specified.\n",
        "    if shuffle:\n",
        "      ds = ds.shuffle(10000)\n",
        "    \n",
        "    \n",
        "    # Return the next batch of data.\n",
        "    features, labels = ds.make_one_shot_iterator().get_next()\n",
        "    return features, labels"
      ],
      "execution_count": 0,
      "outputs": []
    },
    {
      "metadata": {
        "id": "UEUFHHKAd9z6",
        "colab_type": "text"
      },
      "cell_type": "markdown",
      "source": [
        "## Crear y entrenar el clasificador\n",
        "1. Complete el codigo en las seccion #code y siga las instrucciones"
      ]
    },
    {
      "metadata": {
        "id": "bRoehLSAEWP_",
        "colab_type": "code",
        "colab": {}
      },
      "cell_type": "code",
      "source": [
        "def train_nn_classification_model(\n",
        "    learning_rate,\n",
        "    steps,\n",
        "    batch_size,\n",
        "    hidden_units,\n",
        "    training_examples,\n",
        "    training_targets,\n",
        "    validation_examples,\n",
        "    validation_targets):\n",
        "  \"\"\"Trains a neural network classification model for the Iris dataset.\n",
        "  \n",
        "  In addition to training, this function also prints training progress information,\n",
        "  a plot of the training and validation loss over time, as well as a confusion\n",
        "  matrix.\n",
        "  \n",
        "  Args:\n",
        "    learning_rate: A `float`, the learning rate to use.\n",
        "    steps: A non-zero `int`, the total number of training steps. A training step\n",
        "      consists of a forward and backward pass using a single batch.\n",
        "    batch_size: A non-zero `int`, the batch size.\n",
        "    hidden_units: A `list` of int values, specifying the number of neurons in each layer.\n",
        "    training_examples: A `DataFrame` containing the training features.\n",
        "    training_targets: A `DataFrame` containing the training labels.\n",
        "    validation_examples: A `DataFrame` containing the validation features.\n",
        "    validation_targets: A `DataFrame` containing the validation labels.\n",
        "      \n",
        "  Returns:\n",
        "    The trained `DNNClassifier` object.\n",
        "  \"\"\"\n",
        "\n",
        "  periods = 10\n",
        "  # Caution: input pipelines are reset with each call to train. \n",
        "  # If the number of steps is small, your model may never see most of the data.  \n",
        "  # So with multiple `.train` calls like this you may want to control the length \n",
        "  # of training with num_epochs passed to the input_fn. Or, you can do a really-big shuffle, \n",
        "  # or since it's in-memory data, shuffle all the data in the `input_fn`.\n",
        "  steps_per_period = steps / periods\n",
        "\n",
        "\n",
        "  # Create the input functions.\n",
        "\n",
        "  #cree las funciones de entrada para las predicciones del set de validacion y entrenamiento\n",
        "\n",
        "  predict_training_input_fn =lambda: my_input_fn(training_examples, \n",
        "                                                  training_targets, \n",
        "                                                  num_epochs=1, \n",
        "                                                  shuffle=False)\n",
        "  predict_validation_input_fn = lambda: my_input_fn(validation_examples, \n",
        "                                                    validation_targets, \n",
        "                                                    num_epochs=1, \n",
        "                                                    shuffle=False)\n",
        "\n",
        "  #cree la funcion de entrada para el set de entrenamiento\n",
        "  training_input_fn = lambda: my_input_fn(training_examples, \n",
        "                                          training_targets['class_encoded'], \n",
        "                                          batch_size=batch_size)\n",
        "\n",
        "\n",
        "\n",
        "  # Create a DNNClassifier object.\n",
        "\n",
        "  my_optimizer = tf.train.GradientDescentOptimizer(learning_rate=learning_rate)\n",
        "  my_optimizer = tf.contrib.estimator.clip_gradients_by_norm(my_optimizer, 5.0)\n",
        "\n",
        "  classifier = tf.estimator.DNNClassifier(\n",
        "      feature_columns=construct_feature_columns(training_examples),\n",
        "      n_classes=3,\n",
        "      hidden_units=hidden_units,\n",
        "      optimizer=my_optimizer,\n",
        "      config=tf.contrib.learn.RunConfig(keep_checkpoint_max=1)\n",
        "  )\n",
        "\n",
        "\n",
        "\n",
        "  # Train the model, but do so inside a loop so that we can periodically assess\n",
        "  # loss metrics.\n",
        "  print(\"Training model...\")\n",
        "  print(\"LogLoss error (on validation data):\")\n",
        "  training_log_losses = []\n",
        "  validation_log_losses = []\n",
        "\n",
        "  for period in range (0, periods):\n",
        "\n",
        "\n",
        "    # Train the model, starting from the prior state.\n",
        "\n",
        "    #code entrene el modelo .train\n",
        "    classifier.train(\n",
        "        input_fn=training_input_fn,\n",
        "        steps=steps_per_period\n",
        "    )\n",
        "\n",
        "    # Take a break and compute probabilities.\n",
        "    training_predictions = list(classifier.predict(input_fn=predict_training_input_fn))\n",
        "    training_probabilities =np.array([item['probabilities'] for item in training_predictions])\n",
        "    training_pred_class_id = np.array([item['class_ids'][0] for item in training_predictions])\n",
        "    training_pred_one_hot=tf.keras.utils.to_categorical(training_pred_class_id,3)\n",
        "\n",
        "\n",
        "    validation_predictions = list(classifier.predict(input_fn=predict_validation_input_fn))\n",
        "    validation_probabilities = np.array([item['probabilities'] for item in validation_predictions])  \n",
        "    validation_pred_class_id = np.array([item['class_ids'][0] for item in validation_predictions])\n",
        "    validation_pred_one_hot=tf.keras.utils.to_categorical(validation_pred_class_id,3)\n",
        "\n",
        "    training_log_loss = metrics.log_loss(training_targets, training_pred_one_hot)\n",
        "    validation_log_loss = metrics.log_loss(validation_targets,validation_pred_one_hot)\n",
        "\n",
        "\n",
        "\n",
        "    # Compute training and validation errors.\n",
        "    #training_log_loss = metrics.log_loss(training_targets, training_pred_one_hot)\n",
        "    #validation_log_loss = metrics.log_loss(validation_targets, validation_pred_one_hot)\n",
        "    # Occasionally print the current loss.\n",
        "    print(\"  period %02d : %0.2f\" % (period, validation_log_loss))\n",
        "    # Add the loss metrics from this period to our list.\n",
        "    training_log_losses.append(training_log_loss)\n",
        "    validation_log_losses.append(validation_log_loss)\n",
        "\n",
        "  print(\"Model training finished.\")\n",
        "\n",
        "  # Calculate final predictions and probabilities  \n",
        "  final_predictions = classifier.predict(input_fn=predict_validation_input_fn)\n",
        "  final_predictions = np.array([item['class_ids'][0] for item in final_predictions]) \n",
        "  #final_predictions = classifier.predict(input_fn=predict_validation_input_fn)\n",
        "  #final_probabilities = np.array([item['probabilities'] for item in final_predictions])\n",
        "  #final_predictions = np.array([item['class_ids'][0] for item in final_predictions]) \n",
        "\n",
        "\n",
        "  accuracy = metrics.accuracy_score(validation_targets, final_predictions)\n",
        "  print(\"Final accuracy (on validation data): %0.4f\" % accuracy)\n",
        "\n",
        "  # Output a graph of loss metrics over periods.\n",
        "  plt.ylabel(\"LogLoss\")\n",
        "  plt.xlabel(\"Periods\")\n",
        "  plt.title(\"LogLoss vs. Periods\")\n",
        "  plt.plot(training_log_losses, label=\"training\")\n",
        "  plt.plot(validation_log_losses, label=\"validation\")\n",
        "  plt.legend()\n",
        "  plt.show()\n",
        "\n",
        "\n",
        "  # Output a plot of the confusion matrix.\n",
        "  cm = metrics.confusion_matrix(validation_targets, final_predictions)\n",
        "  # Normalize the confusion matrix by row (i.e by the number of samples\n",
        "  # in each class).\n",
        "  cm_normalized = cm.astype(\"float\") / cm.sum(axis=1)[:, np.newaxis]\n",
        "  ax = sns.heatmap(cm_normalized, cmap=\"bone_r\",xticklabels=label_encoder.classes_, yticklabels=label_encoder.classes_)\n",
        "  ax.set_aspect(1)\n",
        "  plt.title(\"Confusion matrix\")\n",
        "  plt.ylabel(\"True label\")\n",
        "  plt.xlabel(\"Predicted label\")\n",
        "  plt.show()\n",
        "\n",
        "  return classifier\n",
        "\n"
      ],
      "execution_count": 0,
      "outputs": []
    },
    {
      "metadata": {
        "id": "qou-_kfnSUv6",
        "colab_type": "text"
      },
      "cell_type": "markdown",
      "source": [
        "## Entrene el clasificador\n",
        "\n",
        "Entrene el clasificador enviando los parámetros correspondientes a train_nn_classification_model. Recuerde que aquí puede colocar los hiperparametros que usted desee, debe encontrar los hiperparametros adecuados para lograr un buen accuracy en el test de validación, pero sin tener overfitting.\n"
      ]
    },
    {
      "metadata": {
        "id": "sm1NGRHNHzaL",
        "colab_type": "code",
        "outputId": "e2a089ef-1501-478d-a26d-b07546009911",
        "colab": {
          "base_uri": "https://localhost:8080/",
          "height": 835
        }
      },
      "cell_type": "code",
      "source": [
        "\n",
        "classifier = train_nn_classification_model(\n",
        "             learning_rate=0.002,\n",
        "             steps=1000,\n",
        "             batch_size=10,\n",
        "             hidden_units=[100, 100],\n",
        "             training_examples=training_examples,\n",
        "             training_targets=training_targets,\n",
        "             validation_examples=validation_examples,\n",
        "             validation_targets=validation_targets)"
      ],
      "execution_count": 202,
      "outputs": [
        {
          "output_type": "stream",
          "text": [
            "Training model...\n",
            "LogLoss error (on validation data):\n",
            "  period 00 : 11.51\n",
            "  period 01 : 8.06\n",
            "  period 02 : 9.21\n",
            "  period 03 : 4.61\n",
            "  period 04 : 2.30\n",
            "  period 05 : 4.61\n",
            "  period 06 : 2.30\n",
            "  period 07 : 2.30\n",
            "  period 08 : 3.45\n",
            "  period 09 : 2.30\n",
            "Model training finished.\n",
            "Final accuracy (on validation data): 0.9333\n"
          ],
          "name": "stdout"
        },
        {
          "output_type": "display_data",
          "data": {
            "image/png": "[encoded data removed]",
            "text/plain": [
              "<Figure size 432x288 with 1 Axes>"
            ]
          },
          "metadata": {
            "tags": []
          }
        },
        {
          "output_type": "display_data",
          "data": {
            "image/png": "[encoded data removed]",
            "text/plain": [
              "<Figure size 432x288 with 2 Axes>"
            ]
          },
          "metadata": {
            "tags": []
          }
        }
      ]
    },
    {
      "metadata": {
        "id": "q89z1hy5TJke",
        "colab_type": "text"
      },
      "cell_type": "markdown",
      "source": [
        "## Verificación en el conjunto de prueba\n",
        "\n",
        "Verifique el accuracy en su test de prueba, recuerde que debe crear una función de entrada que no aleatoriza los batch y que solamente recorre los datos 1 época.\n",
        "\n",
        "para medir el accuracy utilice https://scikit-learn.org/stable/modules/generated/sklearn.metrics.accuracy_score.html\n"
      ]
    },
    {
      "metadata": {
        "id": "1Dmu1yeRuK7h",
        "colab_type": "code",
        "outputId": "ceedc68e-2417-4993-8812-b8099a607639",
        "colab": {
          "base_uri": "https://localhost:8080/",
          "height": 35
        }
      },
      "cell_type": "code",
      "source": [
        "batch_size = 15\n",
        "predict_test_input_fn = lambda: my_input_fn(test_examples, \n",
        "                                                  test_targets, \n",
        "                                                  num_epochs=1, \n",
        "                                                  shuffle=False) \n",
        "test_predictions = list(classifier.predict(input_fn=predict_test_input_fn))\n",
        "test_predictions_class_id = np.array([item['class_ids'][0] for item in test_predictions])\n",
        "test_predictions_probabilities = np.array([item['probabilities'] for item in test_predictions])\n",
        "\n",
        "final_predictions = classifier.predict(input_fn=predict_test_input_fn)\n",
        "  \n",
        "final_predictions = np.array([item['class_ids'][0] for item in final_predictions]) \n",
        "  \n",
        "accuracy = metrics.accuracy_score(test_targets, final_predictions) \n",
        "print(\"Accuracy on test data: %0.4f\" % accuracy)\n",
        "\n"
      ],
      "execution_count": 206,
      "outputs": [
        {
          "output_type": "stream",
          "text": [
            "Accuracy on test data: 0.9333\n"
          ],
          "name": "stdout"
        }
      ]
    },
    {
      "metadata": {
        "id": "u6t80B69v1Bh",
        "colab_type": "code",
        "outputId": "ca322a3b-4675-4e05-f09b-96b91a22f30e",
        "colab": {
          "base_uri": "https://localhost:8080/",
          "height": 480
        }
      },
      "cell_type": "code",
      "source": [
        "test_targets_decoded = label_encoder.inverse_transform(test_targets)\n",
        "test_predictions_decoded =  label_encoder.inverse_transform(test_predictions_class_id)\n",
        "\n",
        "\n",
        "results_dataframe = pd.DataFrame()\n",
        "results_dataframe['true_label'] = test_targets_decoded\n",
        "results_dataframe['predicted_label'] = test_predictions_decoded\n",
        "\n",
        "results_dataframe.head(30)\n",
        "  "
      ],
      "execution_count": 207,
      "outputs": [
        {
          "output_type": "stream",
          "text": [
            "/usr/local/lib/python3.6/dist-packages/sklearn/preprocessing/label.py:273: DataConversionWarning: A column-vector y was passed when a 1d array was expected. Please change the shape of y to (n_samples, ), for example using ravel().\n",
            "  y = column_or_1d(y, warn=True)\n"
          ],
          "name": "stderr"
        },
        {
          "output_type": "execute_result",
          "data": {
            "text/html": [
              "<div>\n",
              "<style scoped>\n",
              "    .dataframe tbody tr th:only-of-type {\n",
              "        vertical-align: middle;\n",
              "    }\n",
              "\n",
              "    .dataframe tbody tr th {\n",
              "        vertical-align: top;\n",
              "    }\n",
              "\n",
              "    .dataframe thead th {\n",
              "        text-align: right;\n",
              "    }\n",
              "</style>\n",
              "<table border=\"1\" class=\"dataframe\">\n",
              "  <thead>\n",
              "    <tr style=\"text-align: right;\">\n",
              "      <th></th>\n",
              "      <th>true_label</th>\n",
              "      <th>predicted_label</th>\n",
              "    </tr>\n",
              "  </thead>\n",
              "  <tbody>\n",
              "    <tr>\n",
              "      <th>0</th>\n",
              "      <td>Iris-setosa</td>\n",
              "      <td>Iris-setosa</td>\n",
              "    </tr>\n",
              "    <tr>\n",
              "      <th>1</th>\n",
              "      <td>Iris-virginica</td>\n",
              "      <td>Iris-virginica</td>\n",
              "    </tr>\n",
              "    <tr>\n",
              "      <th>2</th>\n",
              "      <td>Iris-versicolor</td>\n",
              "      <td>Iris-versicolor</td>\n",
              "    </tr>\n",
              "    <tr>\n",
              "      <th>3</th>\n",
              "      <td>Iris-versicolor</td>\n",
              "      <td>Iris-versicolor</td>\n",
              "    </tr>\n",
              "    <tr>\n",
              "      <th>4</th>\n",
              "      <td>Iris-virginica</td>\n",
              "      <td>Iris-versicolor</td>\n",
              "    </tr>\n",
              "    <tr>\n",
              "      <th>...</th>\n",
              "      <td>...</td>\n",
              "      <td>...</td>\n",
              "    </tr>\n",
              "    <tr>\n",
              "      <th>25</th>\n",
              "      <td>Iris-versicolor</td>\n",
              "      <td>Iris-versicolor</td>\n",
              "    </tr>\n",
              "    <tr>\n",
              "      <th>26</th>\n",
              "      <td>Iris-setosa</td>\n",
              "      <td>Iris-setosa</td>\n",
              "    </tr>\n",
              "    <tr>\n",
              "      <th>27</th>\n",
              "      <td>Iris-versicolor</td>\n",
              "      <td>Iris-versicolor</td>\n",
              "    </tr>\n",
              "    <tr>\n",
              "      <th>28</th>\n",
              "      <td>Iris-virginica</td>\n",
              "      <td>Iris-virginica</td>\n",
              "    </tr>\n",
              "    <tr>\n",
              "      <th>29</th>\n",
              "      <td>Iris-virginica</td>\n",
              "      <td>Iris-virginica</td>\n",
              "    </tr>\n",
              "  </tbody>\n",
              "</table>\n",
              "<p>30 rows × 2 columns</p>\n",
              "</div>"
            ],
            "text/plain": [
              "         true_label  predicted_label\n",
              "0       Iris-setosa      Iris-setosa\n",
              "1    Iris-virginica   Iris-virginica\n",
              "2   Iris-versicolor  Iris-versicolor\n",
              "3   Iris-versicolor  Iris-versicolor\n",
              "4    Iris-virginica  Iris-versicolor\n",
              "..              ...              ...\n",
              "25  Iris-versicolor  Iris-versicolor\n",
              "26      Iris-setosa      Iris-setosa\n",
              "27  Iris-versicolor  Iris-versicolor\n",
              "28   Iris-virginica   Iris-virginica\n",
              "29   Iris-virginica   Iris-virginica\n",
              "\n",
              "[30 rows x 2 columns]"
            ]
          },
          "metadata": {
            "tags": []
          },
          "execution_count": 207
        }
      ]
    },
    {
      "metadata": {
        "id": "QtxXaBj_g2Qw",
        "colab_type": "code",
        "colab": {}
      },
      "cell_type": "code",
      "source": [
        "def show_probabilities_graph(class_ids,probs,true_label):\n",
        "  plt.rcdefaults()\n",
        "  fig, ax = plt.subplots()\n",
        "\n",
        "  y_pos = np.arange(len(class_ids))\n",
        "\n",
        "\n",
        "  ax.barh(y_pos, probs, align='center', color='green', ecolor='black')\n",
        "  ax.set_yticks(y_pos)\n",
        "  ax.set_yticklabels(class_ids)\n",
        "  ax.invert_yaxis()  # labels read top-to-bottom\n",
        "  ax.set_xlabel('Prob')\n",
        "  ax.set_title('True label: '+true_label)\n",
        "\n",
        "  plt.show()"
      ],
      "execution_count": 0,
      "outputs": []
    },
    {
      "metadata": {
        "id": "D6gAXBK_yZMc",
        "colab_type": "code",
        "outputId": "940e4d0c-9750-4a48-b95e-bc5a7de74eb6",
        "colab": {
          "base_uri": "https://localhost:8080/",
          "height": 472
        }
      },
      "cell_type": "code",
      "source": [
        "import random\n",
        "i = random.randint(0,test_targets.size-1)\n",
        "\n",
        "show_probabilities_graph(label_encoder.classes_,test_predictions_probabilities[i],str(test_targets_decoded[i]))\n"
      ],
      "execution_count": 209,
      "outputs": [
        {
          "output_type": "display_data",
          "data": {
            "image/png": "[encoded data removed]",
            "text/plain": [
              "<Figure size 640x480 with 1 Axes>"
            ]
          },
          "metadata": {
            "tags": []
          }
        }
      ]
    }
  ]
}